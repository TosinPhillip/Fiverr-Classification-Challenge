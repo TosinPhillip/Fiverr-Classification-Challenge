{
 "cells": [
  {
   "cell_type": "code",
   "execution_count": 53,
   "metadata": {},
   "outputs": [],
   "source": [
    "import pandas as pd\n",
    "import matplotlib.pyplot as plt\n",
    "import seaborn as sns\n",
    "from sklearn.tree import DecisionTreeClassifier\n",
    "from sklearn.linear_model import LinearRegression\n",
    "from sklearn.model_selection import train_test_split\n",
    "\n",
    "\n",
    "\n",
    "trainn = pd.read_csv('train.csv')\n",
    "# Let's fill in the missing data, Note that only X13 has 6 missing datapoints\n",
    "trainn.fillna(0, axis='columns', inplace=True)\n",
    "train = trainn.drop(['label', 'user_id'], axis=1)\n",
    "label = trainn.label\n",
    "\n",
    "\n",
    "\n",
    "\n",
    "submit = pd.read_csv('sample_submission.csv')\n",
    "test = pd.read_csv('test.csv')\n",
    "\n",
    "X_train, X_test, y_train, y_test = train_test_split(train, label, test_size=.2, random_state=1214)"
   ]
  },
  {
   "cell_type": "code",
   "execution_count": 47,
   "metadata": {},
   "outputs": [
    {
     "name": "stdout",
     "output_type": "stream",
     "text": [
      "(367038, 52)\n",
      "(458798, 53)\n",
      "0\n"
     ]
    }
   ],
   "source": [
    "print(X_train.shape)\n",
    "print(trainn.shape)\n",
    "print(trainn.isna().sum().sum())"
   ]
  },
  {
   "cell_type": "code",
   "execution_count": null,
   "metadata": {},
   "outputs": [],
   "source": [
    "# Visual exploration\n"
   ]
  },
  {
   "cell_type": "code",
   "execution_count": 55,
   "metadata": {},
   "outputs": [],
   "source": [
    "# Logistic Regression?\n",
    "from sklearn.linear_model import LogisticRegression\n",
    "\n",
    "\n",
    "lr = LogisticRegression(penalty='l2', solver='sag', max_iter=100000)\n",
    "lr.fit(X_train, y_train)\n",
    "\n",
    "print('Train set:', lr.score(X_train, y_train))\n",
    "print('Test set:', lr.score(X_test, y_test))"
   ]
  }
 ],
 "metadata": {
  "kernelspec": {
   "display_name": "Python 3.10.5 64-bit",
   "language": "python",
   "name": "python3"
  },
  "language_info": {
   "codemirror_mode": {
    "name": "ipython",
    "version": 3
   },
   "file_extension": ".py",
   "mimetype": "text/x-python",
   "name": "python",
   "nbconvert_exporter": "python",
   "pygments_lexer": "ipython3",
   "version": "3.10.5"
  },
  "orig_nbformat": 4,
  "vscode": {
   "interpreter": {
    "hash": "dd62058247632cd14a93c2697a8943b281677b56293068d4740acb417a0785ae"
   }
  }
 },
 "nbformat": 4,
 "nbformat_minor": 2
}
